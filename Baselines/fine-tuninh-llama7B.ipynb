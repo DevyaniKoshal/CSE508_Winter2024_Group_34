{
 "cells": [
  {
   "cell_type": "code",
   "execution_count": 1,
   "metadata": {},
   "outputs": [
    {
     "name": "stdout",
     "output_type": "stream",
     "text": [
      "\u001b[33mDEPRECATION: pytorch-lightning 1.7.4 has a non-standard dependency specifier torch>=1.9.*. pip 24.0 will enforce this behaviour change. A possible replacement is to upgrade to a newer version of pytorch-lightning or contact the author to suggest that they release a version with a conforming dependency specifiers. Discussion can be found at https://github.com/pypa/pip/issues/12063\u001b[0m\u001b[33m\n",
      "\u001b[0m\u001b[31mERROR: pip's dependency resolver does not currently take into account all the packages that are installed. This behaviour is the source of the following dependency conflicts.\n",
      "torchdata 0.7.0 requires torch==2.1.0, but you have torch 2.0.1 which is incompatible.\n",
      "torchvision 0.16.0 requires torch==2.1.0, but you have torch 2.0.1 which is incompatible.\u001b[0m\u001b[31m\n",
      "\u001b[0m\n",
      "\u001b[1m[\u001b[0m\u001b[34;49mnotice\u001b[0m\u001b[1;39;49m]\u001b[0m\u001b[39;49m A new release of pip is available: \u001b[0m\u001b[31;49m23.3.1\u001b[0m\u001b[39;49m -> \u001b[0m\u001b[32;49m24.0\u001b[0m\n",
      "\u001b[1m[\u001b[0m\u001b[34;49mnotice\u001b[0m\u001b[1;39;49m]\u001b[0m\u001b[39;49m To update, run: \u001b[0m\u001b[32;49mpip install --upgrade pip\u001b[0m\n"
     ]
    }
   ],
   "source": [
    "!pip install -q torch==2.0.1 transformers==4.32.1 datasets==2.14.4 peft==0.5.0 bitsandbytes==0.41.1 trl==0.7.1 wandb"
   ]
  },
  {
   "cell_type": "code",
   "execution_count": 3,
   "metadata": {},
   "outputs": [
    {
     "name": "stderr",
     "output_type": "stream",
     "text": [
      "2024-03-08 15:18:23.147449: I tensorflow/core/platform/cpu_feature_guard.cc:193] This TensorFlow binary is optimized with oneAPI Deep Neural Network Library (oneDNN) to use the following CPU instructions in performance-critical operations:  AVX2 AVX512F AVX512_VNNI FMA\n",
      "To enable them in other operations, rebuild TensorFlow with the appropriate compiler flags.\n",
      "2024-03-08 15:18:25.307228: I tensorflow/core/util/port.cc:104] oneDNN custom operations are on. You may see slightly different numerical results due to floating-point round-off errors from different computation orders. To turn them off, set the environment variable `TF_ENABLE_ONEDNN_OPTS=0`.\n",
      "2024-03-08 15:18:30.462806: W tensorflow/compiler/xla/stream_executor/platform/default/dso_loader.cc:64] Could not load dynamic library 'libnvinfer.so.7'; dlerror: libnvinfer.so.7: cannot open shared object file: No such file or directory\n",
      "2024-03-08 15:18:30.462923: W tensorflow/compiler/xla/stream_executor/platform/default/dso_loader.cc:64] Could not load dynamic library 'libnvinfer_plugin.so.7'; dlerror: libnvinfer_plugin.so.7: cannot open shared object file: No such file or directory\n",
      "2024-03-08 15:18:30.462933: W tensorflow/compiler/tf2tensorrt/utils/py_utils.cc:38] TF-TRT Warning: Cannot dlopen some TensorRT libraries. If you would like to use Nvidia GPU with TensorRT, please make sure the missing libraries mentioned above are installed properly.\n"
     ]
    }
   ],
   "source": [
    "from warnings import filterwarnings\n",
    "filterwarnings('ignore')\n",
    "import json\n",
    "import re\n",
    "import wandb\n",
    "import os\n",
    "from pprint import pprint\n",
    "import pandas as pd\n",
    "import torch\n",
    "# from kaggle_secrets import UserSecretsClient\n",
    "from datasets import Dataset, load_dataset\n",
    "from huggingface_hub import notebook_login, login\n",
    "from peft import LoraConfig, PeftModel\n",
    "from transformers import (\n",
    "    AutoModelForCausalLM,\n",
    "    AutoTokenizer,\n",
    "    BitsAndBytesConfig,\n",
    "    TrainingArguments,\n",
    ")\n",
    "from trl import SFTTrainer"
   ]
  },
  {
   "cell_type": "code",
   "execution_count": 4,
   "metadata": {},
   "outputs": [],
   "source": [
    "DEVICE = \"cuda:0\" if torch.cuda.is_available() else \"cpu\"\n",
    "MODEL_NAME = \"meta-llama/Llama-2-7b-hf\""
   ]
  },
  {
   "cell_type": "code",
   "execution_count": null,
   "metadata": {},
   "outputs": [],
   "source": [
    "dataset = load_dataset(\"kmfoda/booksum\")\n",
    "dataset"
   ]
  },
  {
   "cell_type": "code",
   "execution_count": 6,
   "metadata": {},
   "outputs": [],
   "source": [
    "import re\n",
    "import json\n",
    "\n",
    "DEFAULT_SYSTEM_PROMPT = \"\"\"\n",
    "Below is a chapter from a book and its summary. Write a summary of the chapter.\n",
    "\"\"\".strip()\n",
    "\n",
    "\n",
    "def generate_training_prompt(\n",
    "    chapter: str, summary_text: str, system_prompt: str = DEFAULT_SYSTEM_PROMPT\n",
    ") -> str:\n",
    "    return f\"\"\"### Instruction: {system_prompt}\n",
    "\n",
    "### Input:\n",
    "{chapter.strip()}\n",
    "\n",
    "### Response:\n",
    "{summary_text}\n",
    "\"\"\".strip()\n",
    "\n",
    "\n",
    "def clean_text(text):\n",
    "    text = re.sub(r\"http\\S+\", \"\", text)\n",
    "    text = re.sub(r\"@[^\\s]+\", \"\", text)\n",
    "    text = re.sub(r\"\\s+\", \" \", text)\n",
    "    return re.sub(r\"\\^[^ ]+\", \"\", text)\n",
    "\n",
    "\n",
    "def generate_text(data_point):\n",
    "    chapter = clean_text(data_point[\"chapter\"])\n",
    "    summary_text = clean_text(data_point[\"summary_text\"])\n",
    "    return {\n",
    "        \"chapter\": chapter,\n",
    "        \"summary_text\": summary_text,\n",
    "        \"text\": generate_training_prompt(chapter, summary_text),\n",
    "    }\n"
   ]
  },
  {
   "cell_type": "code",
   "execution_count": 7,
   "metadata": {},
   "outputs": [],
   "source": [
    "def process_dataset(data: Dataset) -> None:\n",
    "    \"\"\"\n",
    "    This function removes all columns except 'chapter', 'summary_text', and 'text'.\n",
    "    \"\"\"\n",
    "    return (\n",
    "        data.shuffle(seed=42)\n",
    "        .map(generate_text)\n",
    "        .remove_columns(\n",
    "            [\n",
    "                \"bid\",\n",
    "                \"is_aggregate\",\n",
    "                \"source\",\n",
    "                \"chapter_path\",\n",
    "                \"summary_path\",\n",
    "                \"book_id\",\n",
    "                \"summary_id\",\n",
    "                \"content\",\n",
    "                \"summary_name\",\n",
    "                \"summary_url\",\n",
    "                \"summary\",\n",
    "                \"summary_analysis\",\n",
    "                \"chapter_length\",\n",
    "                \"summary_length\",\n",
    "                \"analysis_length\",\n",
    "            ]\n",
    "        )\n",
    "    )\n"
   ]
  },
  {
   "cell_type": "code",
   "execution_count": 8,
   "metadata": {},
   "outputs": [
    {
     "data": {
      "application/vnd.jupyter.widget-view+json": {
       "model_id": "744d1be1324b4e92b6b422c44d1e3faf",
       "version_major": 2,
       "version_minor": 0
      },
      "text/plain": [
       "Map:   0%|          | 0/9600 [00:00<?, ? examples/s]"
      ]
     },
     "metadata": {},
     "output_type": "display_data"
    },
    {
     "data": {
      "application/vnd.jupyter.widget-view+json": {
       "model_id": "c7aebc80f79f4d07ac3c4844632a2b8f",
       "version_major": 2,
       "version_minor": 0
      },
      "text/plain": [
       "Map:   0%|          | 0/1484 [00:00<?, ? examples/s]"
      ]
     },
     "metadata": {},
     "output_type": "display_data"
    },
    {
     "data": {
      "application/vnd.jupyter.widget-view+json": {
       "model_id": "8f089b2bf3ab42dfb4a2c435fbc3069b",
       "version_major": 2,
       "version_minor": 0
      },
      "text/plain": [
       "Map:   0%|          | 0/1431 [00:00<?, ? examples/s]"
      ]
     },
     "metadata": {},
     "output_type": "display_data"
    }
   ],
   "source": [
    "dataset[\"train\"] = process_dataset(dataset[\"train\"])\n",
    "dataset[\"validation\"] = process_dataset(dataset[\"validation\"])\n",
    "dataset[\"test\"] = process_dataset(dataset[\"test\"])"
   ]
  },
  {
   "cell_type": "code",
   "execution_count": 9,
   "metadata": {},
   "outputs": [],
   "source": [
    "def create_model_and_tokenizer():\n",
    "    bnb_config = BitsAndBytesConfig(\n",
    "        load_in_4bit=True,\n",
    "        bnb_4bit_quant_type=\"nf4\",\n",
    "        bnb_4bit_compute_dtype=torch.float16,\n",
    "    )\n",
    "\n",
    "    model = AutoModelForCausalLM.from_pretrained(\n",
    "        MODEL_NAME,\n",
    "        use_safetensors=True,\n",
    "        quantization_config=bnb_config,\n",
    "        trust_remote_code=True,\n",
    "        device_map=\"auto\",\n",
    "    )\n",
    "\n",
    "    tokenizer = AutoTokenizer.from_pretrained(MODEL_NAME)\n",
    "    tokenizer.pad_token = tokenizer.eos_token\n",
    "    tokenizer.padding_side = \"right\"\n",
    "\n",
    "    return model, tokenizer"
   ]
  },
  {
   "cell_type": "code",
   "execution_count": null,
   "metadata": {},
   "outputs": [],
   "source": [
    "notebook_login()"
   ]
  },
  {
   "cell_type": "code",
   "execution_count": null,
   "metadata": {},
   "outputs": [],
   "source": [
    "model, tokenizer = create_model_and_tokenizer()\n",
    "model.config.use_cache = False\n",
    "# Model Quantation configs\n",
    "model.config.quantization_config.to_dict()\n",
    "\n",
    "\n",
    "# PEFT Configurations\n",
    "\n",
    "lora_alpha = 32\n",
    "lora_dropout = 0.05\n",
    "lora_r = 16\n",
    "\n",
    "peft_config = LoraConfig(\n",
    "    lora_alpha=lora_alpha,\n",
    "    lora_dropout=lora_dropout,\n",
    "    r=lora_r,\n",
    "    bias=\"none\",\n",
    "    task_type=\"CAUSAL_LM\",\n",
    ")"
   ]
  },
  {
   "cell_type": "code",
   "execution_count": 18,
   "metadata": {},
   "outputs": [],
   "source": [
    "OUTPUT_DIR = \"/home/shantanu20118/work/exper\"\n",
    "training_arguments = TrainingArguments(\n",
    "    per_device_train_batch_size=1,\n",
    "    gradient_accumulation_steps=1,\n",
    "    optim=\"paged_adamw_32bit\",\n",
    "    logging_steps=1,\n",
    "    learning_rate=1e-4,\n",
    "    fp16=True,\n",
    "    max_grad_norm=0.3,\n",
    "    num_train_epochs=7,\n",
    "    evaluation_strategy=\"epoch\",\n",
    "    eval_steps=0.2,\n",
    "    warmup_ratio=0.05,\n",
    "    save_strategy=\"epoch\",\n",
    "    group_by_length=True,\n",
    "    output_dir=OUTPUT_DIR,\n",
    "    report_to=\"wandb\",\n",
    "    save_safetensors=True,\n",
    "    lr_scheduler_type=\"cosine\",\n",
    "    seed=42,\n",
    "    load_best_model_at_end=True,\n",
    "#     push_to_hub=True,\n",
    ")"
   ]
  },
  {
   "cell_type": "code",
   "execution_count": 19,
   "metadata": {},
   "outputs": [
    {
     "data": {
      "application/vnd.jupyter.widget-view+json": {
       "model_id": "b6f2320d8ae64f89af65d79c26cf532a",
       "version_major": 2,
       "version_minor": 0
      },
      "text/plain": [
       "Map:   0%|          | 0/9600 [00:00<?, ? examples/s]"
      ]
     },
     "metadata": {},
     "output_type": "display_data"
    },
    {
     "data": {
      "application/vnd.jupyter.widget-view+json": {
       "model_id": "daad8b4aa587484fb080510298744164",
       "version_major": 2,
       "version_minor": 0
      },
      "text/plain": [
       "Map:   0%|          | 0/1484 [00:00<?, ? examples/s]"
      ]
     },
     "metadata": {},
     "output_type": "display_data"
    }
   ],
   "source": [
    "trainer = SFTTrainer(\n",
    "    model=model,\n",
    "    train_dataset=dataset[\"train\"],\n",
    "    eval_dataset=dataset[\"validation\"],\n",
    "    peft_config=peft_config,\n",
    "    dataset_text_field=\"text\",\n",
    "    max_seq_length=4096,\n",
    "    tokenizer=tokenizer,\n",
    "    args=training_arguments,\n",
    ")"
   ]
  },
  {
   "cell_type": "code",
   "execution_count": 20,
   "metadata": {},
   "outputs": [
    {
     "data": {
      "text/plain": [
       "{'chapter': ' Mr. Collins was not a sensible man, and the deficiency of nature had been but little assisted by education or society; the greatest part of his life having been spent under the guidance of an illiterate and miserly father; and though he belonged to one of the universities, he had merely kept the necessary terms, without forming at it any useful acquaintance. The subjection in which his father had brought him up, had given him originally great humility of manner, but it was now a good deal counteracted by the self-conceit of a weak head, living in retirement, and the consequential feelings of early and unexpected prosperity. A fortunate chance had recommended him to Lady Catherine de Bourgh when the living of Hunsford was vacant; and the respect which he felt for her high rank, and his veneration for her as his patroness, mingling with a very good opinion of himself, of his authority as a clergyman, and his rights as a rector, made him altogether a mixture of pride and obsequiousness, self-importance and humility. Having now a good house and very sufficient income, he intended to marry; and in seeking a reconciliation with the Longbourn family he had a wife in view, as he meant to chuse one of the daughters, if he found them as handsome and amiable as they were represented by common report. This was his plan of amends--of atonement--for inheriting their father\\'s estate; and he thought it an excellent one, full of eligibility and suitableness, and excessively generous and disinterested on his own part. His plan did not vary on seeing them.--Miss Bennet\\'s lovely face confirmed his views, and established all his strictest notions of what was due to seniority; and for the first evening _she_ was his settled choice. The next morning, however, made an alteration; for in a quarter of an hour\\'s tete-a-tete with Mrs. Bennet before breakfast, a conversation beginning with his parsonage-house, and leading naturally to the avowal of his hopes, that a mistress for it might be found at Longbourn, produced from her, amid very complaisant smiles and general encouragement, a caution against the very Jane he had fixed on.--\"As to her _younger_ daughters she could not take upon her to say--she could not positively answer--but she did not _know_ of any prepossession;--her _eldest_ daughter, she must just mention--she felt it incumbent on her to hint, was likely to be very soon engaged.\" Mr. Collins had only to change from Jane to Elizabeth--and it was soon done--done while Mrs. Bennet was stirring the fire. Elizabeth, equally next to Jane in birth and beauty, succeeded her of course. Mrs. Bennet treasured up the hint, and trusted that she might soon have two daughters married; and the man whom she could not bear to speak of the day before, was now high in her good graces. Lydia\\'s intention of walking to Meryton was not forgotten; every sister except Mary agreed to go with her; and Mr. Collins was to attend them, at the request of Mr. Bennet, who was most anxious to get rid of him, and have his library to himself; for thither Mr. Collins had followed him after breakfast, and there he would continue, nominally engaged with one of the largest folios in the collection, but really talking to Mr. Bennet, with little cessation, of his house and garden at Hunsford. Such doings discomposed Mr. Bennet exceedingly. In his library he had been always sure of leisure and tranquillity; and though prepared, as he told Elizabeth, to meet with folly and conceit in every other room in the house, he was used to be free from them there; his civility, therefore, was most prompt in inviting Mr. Collins to join his daughters in their walk; and Mr. Collins, being in fact much better fitted for a walker than a reader, was extremely well pleased to close his large book, and go. In pompous nothings on his side, and civil assents on that of his cousins, their time passed till they entered Meryton. The attention of the younger ones was then no longer to be gained by _him_. Their eyes were immediately wandering up in the street in quest of the officers, and nothing less than a very smart bonnet indeed, or a really new muslin in a shop window, could recal them. But the attention of every lady was soon caught by a young man, whom they had never seen before, of most gentleman-like appearance, walking with an officer on the other side of the way. The officer was the very Mr. Denny, concerning whose return from London Lydia came to inquire, and he bowed as they passed. All were struck with the stranger\\'s air, all wondered who he could be, and Kitty and Lydia, determined if possible to find out, led the way across the street, under pretence of wanting something in an opposite shop, and fortunately had just gained the pavement when the two gentlemen turning back had reached the same spot. Mr. Denny addressed them directly, and entreated permission to introduce his friend, Mr. Wickham, who had returned with him the day before from town, and he was happy to say had accepted a commission in their corps. This was exactly as it should be; for the young man wanted only regimentals to make him completely charming. His appearance was greatly in his favour; he had all the best part of beauty, a fine countenance, a good figure, and very pleasing address. The introduction was followed up on his side by a happy readiness of conversation--a readiness at the same time perfectly correct and unassuming; and the whole party were still standing and talking together very agreeably, when the sound of horses drew their notice, and Darcy and Bingley were seen riding down the street. On distinguishing the ladies of the group, the two gentlemen came directly towards them, and began the usual civilities. Bingley was the principal spokesman, and Miss Bennet the principal object. He was then, he said, on his way to Longbourn on purpose to inquire after her. Mr. Darcy corroborated it with a bow, and was beginning to determine not to fix his eyes on Elizabeth, when they were suddenly arrested by the sight of the stranger, and Elizabeth happening to see the countenance of both as they looked at each other, was all astonishment at the effect of the meeting. Both changed colour, one looked white, the other red. Mr. Wickham, after a few moments, touched his hat--a salutation which Mr. Darcy just deigned to return. What could be the meaning of it?--It was impossible to imagine; it was impossible not to long to know. In another minute Mr. Bingley, but without seeming to have noticed what passed, took leave and rode on with his friend. Mr. Denny and Mr. Wickham walked with the young ladies to the door of Mr. Philips\\'s house, and then made their bows, in spite of Miss Lydia\\'s pressing entreaties that they would come in, and even in spite of Mrs. Philips\\' throwing up the parlour window, and loudly seconding the invitation. Mrs. Philips was always glad to see her nieces, and the two eldest, from their recent absence, were particularly welcome, and she was eagerly expressing her surprise at their sudden return home, which, as their own carriage had not fetched them, she should have known nothing about, if she had not happened to see Mr. Jones\\'s shop boy in the street, who had told her that they were not to send any more draughts to Netherfield because the Miss Bennets were come away, when her civility was claimed towards Mr. Collins by Jane\\'s introduction of him. She received him with her very best politeness, which he returned with as much more, apologising for his intrusion, without any previous acquaintance with her, which he could not help flattering himself however might be justified by his relationship to the young ladies who introduced him to her notice. Mrs. Philips was quite awed by such an excess of good breeding; but her contemplation of one stranger was soon put an end to by exclamations and inquiries about the other, of whom, however, she could only tell her nieces what they already knew, that Mr. Denny had brought him from London, and that he was to have a lieutenant\\'s commission in the ----shire. She had been watching him the last hour, she said, as he walked up and down the street, and had Mr. Wickham appeared Kitty and Lydia would certainly have continued the occupation, but unluckily no one passed the windows now except a few of the officers, who in comparison with the stranger, were become \"stupid, disagreeable fellows.\" Some of them were to dine with the Philipses the next day, and their aunt promised to make her husband call on Mr. Wickham, and give him an invitation also, if the family from Longbourn would come in the evening. This was agreed to, and Mrs. Philips protested that they would have a nice comfortable noisy game of lottery tickets, and a little bit of hot supper afterwards. The prospect of such delights was very cheering, and they parted in mutual good spirits. Mr. Collins repeated his apologies in quitting the room, and was assured with unwearying civility that they were perfectly needless. As they walked home, Elizabeth related to Jane what she had seen pass between the two gentlemen; but though Jane would have defended either or both, had they appeared to be wrong, she could no more explain such behaviour than her sister. Mr. Collins on his return highly gratified Mrs. Bennet by admiring Mrs. Philips\\'s manners and politeness. He protested that except Lady Catherine and her daughter, he had never seen a more elegant woman; for she had not only received him with the utmost civility, but had even pointedly included him in her invitation for the next evening, although utterly unknown to her before. Something he supposed might be attributed to his connection with them, but yet he had never met with so much attention in the whole course of his life. ',\n",
       " 'summary_text': 'As a rector, Mr. Collins has a sufficient income and a good house. He visits Longbourn with the purpose of choosing one of the Bennet girls as a wife, \"if he found them as handsome and amiable as they were represented by common report\". Janes lovely face attracts him, and she seems to be his \"settled choice\". Mrs. Bennet, however, makes it clear that Janes affections are pledged elsewhere. Mr. Collins then turns his attention to Elizabeth. The sisters walk into Meryton, accompanied by Mr. Collins. They meet Mr. Denny, an officer, who introduces them to his colleague Mr. Wickham. He is a young man with a fine countenance and a good figure. The group encounters Bingley and Darcy, who are riding down the street on their way to Longbourn to inquire after Janes health. Darcy and Wickham seem flustered on seeing each other, exchanging a strange look. Darcy and Bingley ride on while Denny and Wickham escort the girls and Mr. Collins to Mrs. Philips house. Mrs. Philips promises to invite Wickham and the girls to dinner the next evening, which thrills the girls. On returning to Longbourn, Mr. Collins lavishes exaggerated praise on Mrs. Philips excellent manners and hospitality.',\n",
       " 'text': '### Instruction: Below is a chapter from a book and its summary. Write a summary of the chapter.\\n\\n### Input:\\nMr. Collins was not a sensible man, and the deficiency of nature had been but little assisted by education or society; the greatest part of his life having been spent under the guidance of an illiterate and miserly father; and though he belonged to one of the universities, he had merely kept the necessary terms, without forming at it any useful acquaintance. The subjection in which his father had brought him up, had given him originally great humility of manner, but it was now a good deal counteracted by the self-conceit of a weak head, living in retirement, and the consequential feelings of early and unexpected prosperity. A fortunate chance had recommended him to Lady Catherine de Bourgh when the living of Hunsford was vacant; and the respect which he felt for her high rank, and his veneration for her as his patroness, mingling with a very good opinion of himself, of his authority as a clergyman, and his rights as a rector, made him altogether a mixture of pride and obsequiousness, self-importance and humility. Having now a good house and very sufficient income, he intended to marry; and in seeking a reconciliation with the Longbourn family he had a wife in view, as he meant to chuse one of the daughters, if he found them as handsome and amiable as they were represented by common report. This was his plan of amends--of atonement--for inheriting their father\\'s estate; and he thought it an excellent one, full of eligibility and suitableness, and excessively generous and disinterested on his own part. His plan did not vary on seeing them.--Miss Bennet\\'s lovely face confirmed his views, and established all his strictest notions of what was due to seniority; and for the first evening _she_ was his settled choice. The next morning, however, made an alteration; for in a quarter of an hour\\'s tete-a-tete with Mrs. Bennet before breakfast, a conversation beginning with his parsonage-house, and leading naturally to the avowal of his hopes, that a mistress for it might be found at Longbourn, produced from her, amid very complaisant smiles and general encouragement, a caution against the very Jane he had fixed on.--\"As to her _younger_ daughters she could not take upon her to say--she could not positively answer--but she did not _know_ of any prepossession;--her _eldest_ daughter, she must just mention--she felt it incumbent on her to hint, was likely to be very soon engaged.\" Mr. Collins had only to change from Jane to Elizabeth--and it was soon done--done while Mrs. Bennet was stirring the fire. Elizabeth, equally next to Jane in birth and beauty, succeeded her of course. Mrs. Bennet treasured up the hint, and trusted that she might soon have two daughters married; and the man whom she could not bear to speak of the day before, was now high in her good graces. Lydia\\'s intention of walking to Meryton was not forgotten; every sister except Mary agreed to go with her; and Mr. Collins was to attend them, at the request of Mr. Bennet, who was most anxious to get rid of him, and have his library to himself; for thither Mr. Collins had followed him after breakfast, and there he would continue, nominally engaged with one of the largest folios in the collection, but really talking to Mr. Bennet, with little cessation, of his house and garden at Hunsford. Such doings discomposed Mr. Bennet exceedingly. In his library he had been always sure of leisure and tranquillity; and though prepared, as he told Elizabeth, to meet with folly and conceit in every other room in the house, he was used to be free from them there; his civility, therefore, was most prompt in inviting Mr. Collins to join his daughters in their walk; and Mr. Collins, being in fact much better fitted for a walker than a reader, was extremely well pleased to close his large book, and go. In pompous nothings on his side, and civil assents on that of his cousins, their time passed till they entered Meryton. The attention of the younger ones was then no longer to be gained by _him_. Their eyes were immediately wandering up in the street in quest of the officers, and nothing less than a very smart bonnet indeed, or a really new muslin in a shop window, could recal them. But the attention of every lady was soon caught by a young man, whom they had never seen before, of most gentleman-like appearance, walking with an officer on the other side of the way. The officer was the very Mr. Denny, concerning whose return from London Lydia came to inquire, and he bowed as they passed. All were struck with the stranger\\'s air, all wondered who he could be, and Kitty and Lydia, determined if possible to find out, led the way across the street, under pretence of wanting something in an opposite shop, and fortunately had just gained the pavement when the two gentlemen turning back had reached the same spot. Mr. Denny addressed them directly, and entreated permission to introduce his friend, Mr. Wickham, who had returned with him the day before from town, and he was happy to say had accepted a commission in their corps. This was exactly as it should be; for the young man wanted only regimentals to make him completely charming. His appearance was greatly in his favour; he had all the best part of beauty, a fine countenance, a good figure, and very pleasing address. The introduction was followed up on his side by a happy readiness of conversation--a readiness at the same time perfectly correct and unassuming; and the whole party were still standing and talking together very agreeably, when the sound of horses drew their notice, and Darcy and Bingley were seen riding down the street. On distinguishing the ladies of the group, the two gentlemen came directly towards them, and began the usual civilities. Bingley was the principal spokesman, and Miss Bennet the principal object. He was then, he said, on his way to Longbourn on purpose to inquire after her. Mr. Darcy corroborated it with a bow, and was beginning to determine not to fix his eyes on Elizabeth, when they were suddenly arrested by the sight of the stranger, and Elizabeth happening to see the countenance of both as they looked at each other, was all astonishment at the effect of the meeting. Both changed colour, one looked white, the other red. Mr. Wickham, after a few moments, touched his hat--a salutation which Mr. Darcy just deigned to return. What could be the meaning of it?--It was impossible to imagine; it was impossible not to long to know. In another minute Mr. Bingley, but without seeming to have noticed what passed, took leave and rode on with his friend. Mr. Denny and Mr. Wickham walked with the young ladies to the door of Mr. Philips\\'s house, and then made their bows, in spite of Miss Lydia\\'s pressing entreaties that they would come in, and even in spite of Mrs. Philips\\' throwing up the parlour window, and loudly seconding the invitation. Mrs. Philips was always glad to see her nieces, and the two eldest, from their recent absence, were particularly welcome, and she was eagerly expressing her surprise at their sudden return home, which, as their own carriage had not fetched them, she should have known nothing about, if she had not happened to see Mr. Jones\\'s shop boy in the street, who had told her that they were not to send any more draughts to Netherfield because the Miss Bennets were come away, when her civility was claimed towards Mr. Collins by Jane\\'s introduction of him. She received him with her very best politeness, which he returned with as much more, apologising for his intrusion, without any previous acquaintance with her, which he could not help flattering himself however might be justified by his relationship to the young ladies who introduced him to her notice. Mrs. Philips was quite awed by such an excess of good breeding; but her contemplation of one stranger was soon put an end to by exclamations and inquiries about the other, of whom, however, she could only tell her nieces what they already knew, that Mr. Denny had brought him from London, and that he was to have a lieutenant\\'s commission in the ----shire. She had been watching him the last hour, she said, as he walked up and down the street, and had Mr. Wickham appeared Kitty and Lydia would certainly have continued the occupation, but unluckily no one passed the windows now except a few of the officers, who in comparison with the stranger, were become \"stupid, disagreeable fellows.\" Some of them were to dine with the Philipses the next day, and their aunt promised to make her husband call on Mr. Wickham, and give him an invitation also, if the family from Longbourn would come in the evening. This was agreed to, and Mrs. Philips protested that they would have a nice comfortable noisy game of lottery tickets, and a little bit of hot supper afterwards. The prospect of such delights was very cheering, and they parted in mutual good spirits. Mr. Collins repeated his apologies in quitting the room, and was assured with unwearying civility that they were perfectly needless. As they walked home, Elizabeth related to Jane what she had seen pass between the two gentlemen; but though Jane would have defended either or both, had they appeared to be wrong, she could no more explain such behaviour than her sister. Mr. Collins on his return highly gratified Mrs. Bennet by admiring Mrs. Philips\\'s manners and politeness. He protested that except Lady Catherine and her daughter, he had never seen a more elegant woman; for she had not only received him with the utmost civility, but had even pointedly included him in her invitation for the next evening, although utterly unknown to her before. Something he supposed might be attributed to his connection with them, but yet he had never met with so much attention in the whole course of his life.\\n\\n### Response:\\nAs a rector, Mr. Collins has a sufficient income and a good house. He visits Longbourn with the purpose of choosing one of the Bennet girls as a wife, \"if he found them as handsome and amiable as they were represented by common report\". Janes lovely face attracts him, and she seems to be his \"settled choice\". Mrs. Bennet, however, makes it clear that Janes affections are pledged elsewhere. Mr. Collins then turns his attention to Elizabeth. The sisters walk into Meryton, accompanied by Mr. Collins. They meet Mr. Denny, an officer, who introduces them to his colleague Mr. Wickham. He is a young man with a fine countenance and a good figure. The group encounters Bingley and Darcy, who are riding down the street on their way to Longbourn to inquire after Janes health. Darcy and Wickham seem flustered on seeing each other, exchanging a strange look. Darcy and Bingley ride on while Denny and Wickham escort the girls and Mr. Collins to Mrs. Philips house. Mrs. Philips promises to invite Wickham and the girls to dinner the next evening, which thrills the girls. On returning to Longbourn, Mr. Collins lavishes exaggerated praise on Mrs. Philips excellent manners and hospitality.'}"
      ]
     },
     "execution_count": 20,
     "metadata": {},
     "output_type": "execute_result"
    }
   ],
   "source": [
    "dataset['train'][0]"
   ]
  },
  {
   "cell_type": "code",
   "execution_count": 22,
   "metadata": {},
   "outputs": [
    {
     "data": {
      "text/html": [
       "\n",
       "    <div>\n",
       "      \n",
       "      <progress value='10' max='67200' style='width:300px; height:20px; vertical-align: middle;'></progress>\n",
       "      [   10/67200 00:49 < 116:10:42, 0.16 it/s, Epoch 0.00/7]\n",
       "    </div>\n",
       "    <table border=\"1\" class=\"dataframe\">\n",
       "  <thead>\n",
       " <tr style=\"text-align: left;\">\n",
       "      <th>Epoch</th>\n",
       "      <th>Training Loss</th>\n",
       "      <th>Validation Loss</th>\n",
       "    </tr>\n",
       "  </thead>\n",
       "  <tbody>\n",
       "  </tbody>\n",
       "</table><p>"
      ],
      "text/plain": [
       "<IPython.core.display.HTML object>"
      ]
     },
     "metadata": {},
     "output_type": "display_data"
    }
   ],
   "source": [
    "trainer.train()"
   ]
  },
  {
   "cell_type": "code",
   "execution_count": null,
   "metadata": {},
   "outputs": [],
   "source": []
  }
 ],
 "metadata": {
  "kernelspec": {
   "display_name": ".venv",
   "language": "python",
   "name": "python3"
  },
  "language_info": {
   "codemirror_mode": {
    "name": "ipython",
    "version": 3
   },
   "file_extension": ".py",
   "mimetype": "text/x-python",
   "name": "python",
   "nbconvert_exporter": "python",
   "pygments_lexer": "ipython3",
   "version": "3.10.12"
  }
 },
 "nbformat": 4,
 "nbformat_minor": 2
}
